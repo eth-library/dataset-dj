{
 "cells": [
  {
   "cell_type": "markdown",
   "id": "8ac22ead-517b-43b6-ae0f-c7f2b9686f90",
   "metadata": {},
   "source": [
    "# Explore and Download files from E-Periodica\n",
    "used to investigate the api structures and download a small number of sample files"
   ]
  },
  {
   "cell_type": "code",
   "execution_count": 13,
   "id": "f8aa29b0-4b69-4269-92c8-e75e4815a9e0",
   "metadata": {},
   "outputs": [],
   "source": [
    "import pandas as pd\n",
    "import requests\n",
    "from bs4 import BeautifulSoup\n",
    "from time import sleep"
   ]
  },
  {
   "cell_type": "code",
   "execution_count": 93,
   "id": "75577164-de4b-48e4-8d20-ccb1538c7d56",
   "metadata": {},
   "outputs": [
    {
     "data": {
      "text/plain": [
       "'https://www.e-periodica.ch/digbib/view?pid=cmt-001%3A1917%3A1%3A%3A4'"
      ]
     },
     "execution_count": 93,
     "metadata": {},
     "output_type": "execute_result"
    }
   ],
   "source": [
    "# url for a single journal\n",
    "url = \"https://www.e-periodica.ch/digbib/view?pid=cmt-001%3A1917%3A1%3A%3A4\"\n",
    "url"
   ]
  },
  {
   "cell_type": "code",
   "execution_count": 9,
   "id": "35590726-f85f-4c83-922a-5daebbc30823",
   "metadata": {},
   "outputs": [],
   "source": [
    "# get the html page \n",
    "resp = requests.get(url)"
   ]
  },
  {
   "cell_type": "code",
   "execution_count": 72,
   "id": "13aca3d1-4ca8-407f-85c6-6e898d580d56",
   "metadata": {
    "tags": []
   },
   "outputs": [
    {
     "name": "stdout",
     "output_type": "stream",
     "text": [
      "<!DOCTYPE html>\n",
      "<html class=\"no-js viewer-page ep-page--viewer\" lang=\"de\">\n",
      " <head>\n",
      "  <meta charset=\"utf-8\"/>\n",
      "  <meta content=\"IE=edge\" http-equiv=\"X-UA-Compatible\"/>\n",
      "  <meta content=\"text/html; charset=utf-8\" http-equiv=\"content-type\"/>\n",
      "  <link href=\"/dist/css/main-2c0f6a9f99fa252623af3b27b0f6aadb.css;jsessionid=9471C6D7F922346C77DC2F453F1447E0\" rel=\"stylesheet\"/>\n",
      "  <meta content=\"width=device-width, initial-scale=1, maximum-scale=1, user-scalable=no\" name=\"viewport\"/>\n",
      "  <link href=\"/apple-touch-icon.png\" rel=\"apple-touch-icon\" sizes=\"180x180\"/>\n",
      "  <link href=\"/favicon-32x32.png\" rel=\"icon\" sizes=\"32x32\" type=\"image/png\"/>\n",
      "  <link href=\"/favicon-16x16.png\" rel=\"icon\" sizes=\"16x16\" type=\"image \n",
      "\n",
      "...\n"
     ]
    }
   ],
   "source": [
    "# parse the html text\n",
    "soup = BeautifulSoup(resp.text)\n",
    "print(soup.prettify()[:700], \"\\n\\n...\")"
   ]
  },
  {
   "cell_type": "code",
   "execution_count": 74,
   "id": "f56cfd58-0d54-49b7-9816-c27d88e7b6a1",
   "metadata": {},
   "outputs": [],
   "source": [
    "# find the table of context table that lists the pages in the journal \n",
    "table_soup = soup.find('table',attrs={\"class\":\"ep-view__toc__table\",\"summary\":\"This table lists the magazines\"})"
   ]
  },
  {
   "cell_type": "code",
   "execution_count": 75,
   "id": "b60f1e82-f136-4da8-970a-0501010f624e",
   "metadata": {},
   "outputs": [],
   "source": [
    "# extract the attributes and put in a dataframe easy viewing\n",
    "data = [row.attrs for row in table_soup.find_all(\"tr\")]\n",
    "index = range(len(data))\n",
    "df = pd.DataFrame(data, index).dropna()"
   ]
  },
  {
   "cell_type": "code",
   "execution_count": 77,
   "id": "3c537445-3fde-4790-add7-669c9de9f70b",
   "metadata": {},
   "outputs": [],
   "source": [
    "# get the filename from the data-imid field\n",
    "df['filename'] = df['data-imid'].apply(lambda x: x.rsplit('!',maxsplit=1)[-1])"
   ]
  },
  {
   "cell_type": "code",
   "execution_count": 78,
   "id": "4cc1ab62-7a39-4048-a2b6-db398502b115",
   "metadata": {},
   "outputs": [
    {
     "data": {
      "text/html": [
       "<div>\n",
       "<style scoped>\n",
       "    .dataframe tbody tr th:only-of-type {\n",
       "        vertical-align: middle;\n",
       "    }\n",
       "\n",
       "    .dataframe tbody tr th {\n",
       "        vertical-align: top;\n",
       "    }\n",
       "\n",
       "    .dataframe thead th {\n",
       "        text-align: right;\n",
       "    }\n",
       "</style>\n",
       "<table border=\"1\" class=\"dataframe\">\n",
       "  <thead>\n",
       "    <tr style=\"text-align: right;\">\n",
       "      <th></th>\n",
       "      <th>id</th>\n",
       "      <th>data-pages</th>\n",
       "      <th>data-pid</th>\n",
       "      <th>data-imid</th>\n",
       "      <th>filename</th>\n",
       "    </tr>\n",
       "  </thead>\n",
       "  <tbody>\n",
       "    <tr>\n",
       "      <th>1</th>\n",
       "      <td>n-2</td>\n",
       "      <td>1</td>\n",
       "      <td>4</td>\n",
       "      <td>cmt!1917_001!cmt-001_1917_001_0001.jpg</td>\n",
       "      <td>cmt-001_1917_001_0001.jpg</td>\n",
       "    </tr>\n",
       "    <tr>\n",
       "      <th>2</th>\n",
       "      <td>n-3</td>\n",
       "      <td>2</td>\n",
       "      <td>4</td>\n",
       "      <td>cmt!1917_001!cmt-001_1917_001_0001.jpg</td>\n",
       "      <td>cmt-001_1917_001_0001.jpg</td>\n",
       "    </tr>\n",
       "    <tr>\n",
       "      <th>3</th>\n",
       "      <td>n-4</td>\n",
       "      <td>3</td>\n",
       "      <td>5</td>\n",
       "      <td>cmt!1917_001!cmt-001_1917_001_0002.jpg</td>\n",
       "      <td>cmt-001_1917_001_0002.jpg</td>\n",
       "    </tr>\n",
       "    <tr>\n",
       "      <th>4</th>\n",
       "      <td>n-5</td>\n",
       "      <td>2</td>\n",
       "      <td>7</td>\n",
       "      <td>cmt!1917_001!cmt-001_1917_001_0004.jpg</td>\n",
       "      <td>cmt-001_1917_001_0004.jpg</td>\n",
       "    </tr>\n",
       "    <tr>\n",
       "      <th>5</th>\n",
       "      <td>n-6</td>\n",
       "      <td>2</td>\n",
       "      <td>8</td>\n",
       "      <td>cmt!1917_001!cmt-001_1917_001_0005.jpg</td>\n",
       "      <td>cmt-001_1917_001_0005.jpg</td>\n",
       "    </tr>\n",
       "    <tr>\n",
       "      <th>...</th>\n",
       "      <td>...</td>\n",
       "      <td>...</td>\n",
       "      <td>...</td>\n",
       "      <td>...</td>\n",
       "      <td>...</td>\n",
       "    </tr>\n",
       "    <tr>\n",
       "      <th>59</th>\n",
       "      <td>n-60</td>\n",
       "      <td>3</td>\n",
       "      <td>68</td>\n",
       "      <td>cmt!1917_001!cmt-001_1917_001_0065.jpg</td>\n",
       "      <td>cmt-001_1917_001_0065.jpg</td>\n",
       "    </tr>\n",
       "    <tr>\n",
       "      <th>60</th>\n",
       "      <td>n-61</td>\n",
       "      <td>3</td>\n",
       "      <td>70</td>\n",
       "      <td>cmt!1917_001!cmt-001_1917_001_0067.jpg</td>\n",
       "      <td>cmt-001_1917_001_0067.jpg</td>\n",
       "    </tr>\n",
       "    <tr>\n",
       "      <th>61</th>\n",
       "      <td>n-62</td>\n",
       "      <td>3</td>\n",
       "      <td>72</td>\n",
       "      <td>cmt!1917_001!cmt-001_1917_001_0069.jpg</td>\n",
       "      <td>cmt-001_1917_001_0069.jpg</td>\n",
       "    </tr>\n",
       "    <tr>\n",
       "      <th>62</th>\n",
       "      <td>n-63</td>\n",
       "      <td>2</td>\n",
       "      <td>74</td>\n",
       "      <td>cmt!1917_001!cmt-001_1917_001_0071.jpg</td>\n",
       "      <td>cmt-001_1917_001_0071.jpg</td>\n",
       "    </tr>\n",
       "    <tr>\n",
       "      <th>63</th>\n",
       "      <td>n-64</td>\n",
       "      <td>1</td>\n",
       "      <td>75</td>\n",
       "      <td>cmt!1917_001!cmt-001_1917_001_0072.jpg</td>\n",
       "      <td>cmt-001_1917_001_0072.jpg</td>\n",
       "    </tr>\n",
       "  </tbody>\n",
       "</table>\n",
       "<p>63 rows × 5 columns</p>\n",
       "</div>"
      ],
      "text/plain": [
       "      id data-pages data-pid                               data-imid  \\\n",
       "1    n-2          1        4  cmt!1917_001!cmt-001_1917_001_0001.jpg   \n",
       "2    n-3          2        4  cmt!1917_001!cmt-001_1917_001_0001.jpg   \n",
       "3    n-4          3        5  cmt!1917_001!cmt-001_1917_001_0002.jpg   \n",
       "4    n-5          2        7  cmt!1917_001!cmt-001_1917_001_0004.jpg   \n",
       "5    n-6          2        8  cmt!1917_001!cmt-001_1917_001_0005.jpg   \n",
       "..   ...        ...      ...                                     ...   \n",
       "59  n-60          3       68  cmt!1917_001!cmt-001_1917_001_0065.jpg   \n",
       "60  n-61          3       70  cmt!1917_001!cmt-001_1917_001_0067.jpg   \n",
       "61  n-62          3       72  cmt!1917_001!cmt-001_1917_001_0069.jpg   \n",
       "62  n-63          2       74  cmt!1917_001!cmt-001_1917_001_0071.jpg   \n",
       "63  n-64          1       75  cmt!1917_001!cmt-001_1917_001_0072.jpg   \n",
       "\n",
       "                     filename  \n",
       "1   cmt-001_1917_001_0001.jpg  \n",
       "2   cmt-001_1917_001_0001.jpg  \n",
       "3   cmt-001_1917_001_0002.jpg  \n",
       "4   cmt-001_1917_001_0004.jpg  \n",
       "5   cmt-001_1917_001_0005.jpg  \n",
       "..                        ...  \n",
       "59  cmt-001_1917_001_0065.jpg  \n",
       "60  cmt-001_1917_001_0067.jpg  \n",
       "61  cmt-001_1917_001_0069.jpg  \n",
       "62  cmt-001_1917_001_0071.jpg  \n",
       "63  cmt-001_1917_001_0072.jpg  \n",
       "\n",
       "[63 rows x 5 columns]"
      ]
     },
     "execution_count": 78,
     "metadata": {},
     "output_type": "execute_result"
    }
   ],
   "source": [
    "df"
   ]
  },
  {
   "cell_type": "markdown",
   "id": "a5ae6297-f65d-42da-8653-4ab1647ab9ad",
   "metadata": {},
   "source": [
    "this is an example url for viewing an individual image with the iiif api  \n",
    "user interface includes options for requesting different image resoutions/sizes"
   ]
  },
  {
   "cell_type": "code",
   "execution_count": 102,
   "id": "d83da4c3-c8d5-4f4f-aa93-3ed29e80aa9d",
   "metadata": {},
   "outputs": [
    {
     "name": "stdout",
     "output_type": "stream",
     "text": [
      "https://iiif.library.ethz.ch/iiif/2/e-periodica!cmt!1917_001!cmt-001_1917_001_0001.jpg/full/!1024,1024/0/default.jpg?response-content-disposition=attachment%3B%20filename%3Dcmt-001_1917_001_0001-1024.jpg\n",
      "\n",
      " reconstructing the url from parts: \n",
      "\n",
      "https://iiif.library.ethz.ch/iiif/2/e-periodica!cmt!1917_001!cmt-001_1917_001_0001.jpg/full/!1024,1024/0/default.jpg?response-content-disposition=attachment%3B%20filename%3Dcmt-001_1917_001_0001-1024.jpg\n",
      "\n",
      "urls are the same: True\n"
     ]
    }
   ],
   "source": [
    "example_url =  \"https://iiif.library.ethz.ch/iiif/2/e-periodica!cmt!1917_001!cmt-001_1917_001_0001.jpg/full/!1024,1024/0/default.jpg?response-content-disposition=attachment%3B%20filename%3Dcmt-001_1917_001_0001-1024.jpg\"\n",
    "print(example_url)\n",
    "\n",
    "\n",
    "print(\"\\n reconstructing the url from parts: \\n\")\n",
    "img_width_height_options = {\n",
    "                    \"small\":('1024','1024'),\n",
    "                    \"medium\":('2048','2048'),\n",
    "                    \"large\":('full','full')\n",
    "                   }\n",
    "im_width, im_height = img_width_height_options['small']\n",
    "data_imid = \"cmt!1917_001!cmt-001_1917_001_0001.jpg\"\n",
    "filename = \"cmt-001_1917_001_0001\"\n",
    "file_format=\".jpg\"\n",
    "\n",
    "im_url = \"https://iiif.library.ethz.ch/iiif/2/e-periodica!{data_imid}/full/!{im_width},{im_height}/0/default.jpg?response-content-disposition=attachment%3B%20filename%3D{filename}-{im_width}{file_format}\"\n",
    "im_url = im_url.format(data_imid = data_imid,\n",
    "                       im_width = im_width, \n",
    "                       im_height = im_height,\n",
    "                       filename = filename,\n",
    "                       file_format=file_format)\n",
    "print(im_url)\n",
    "print(\"\\nurls are the same:\", example_url==im_url)"
   ]
  },
  {
   "cell_type": "code",
   "execution_count": 66,
   "id": "a135936e-e327-4c35-aca8-1b1f7cd6b632",
   "metadata": {},
   "outputs": [
    {
     "name": "stdout",
     "output_type": "stream",
     "text": [
      " downloading file 63 of 63"
     ]
    }
   ],
   "source": [
    "# download a list of images from DataFrame\n",
    "\n",
    "output_dir = \"../data/raw/e-periodica/sample\"\n",
    "if not os.path.exists(output_dir):\n",
    "    os.makedirs(output_dir)\n",
    "\n",
    "total = df.shape[0]\n",
    "for i, row in df.iterrows():\n",
    "    \n",
    "    print(f\"\\r downloading file {i} of {total}\", end=\"\")\n",
    "    data_imid = row['data-imid']\n",
    "    fname = row['filename']\n",
    "    im_url = f\"https://iiif.library.ethz.ch/iiif/2/e-periodica!{data_imid}/full/!1024,1024/0/default.jpg?response-content-disposition=attachment%3B%20filename%3D{fname}\"\n",
    "    \n",
    "        response = requests.get(im_url)\n",
    "\n",
    "    output_fpath = os.path.join(output_dir, fname)\n",
    "    try:\n",
    "        with open(output_fpath, \"wb\") as f:\n",
    "            f.write(response.content)\n",
    "    except Exception as E:\n",
    "        print(E)        \n",
    "\n",
    "    sleep(1)"
   ]
  }
 ],
 "metadata": {
  "kernelspec": {
   "display_name": "Python 3",
   "language": "python",
   "name": "python3"
  },
  "language_info": {
   "codemirror_mode": {
    "name": "ipython",
    "version": 3
   },
   "file_extension": ".py",
   "mimetype": "text/x-python",
   "name": "python",
   "nbconvert_exporter": "python",
   "pygments_lexer": "ipython3",
   "version": "3.9.7"
  }
 },
 "nbformat": 4,
 "nbformat_minor": 5
}
